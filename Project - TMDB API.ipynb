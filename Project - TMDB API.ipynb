{
 "cells": [
  {
   "cell_type": "markdown",
   "id": "502d1de2",
   "metadata": {},
   "source": [
    "# TMDB API"
   ]
  },
  {
   "cell_type": "markdown",
   "id": "93ba5640",
   "metadata": {},
   "source": [
    "## Project Details"
   ]
  },
  {
   "cell_type": "markdown",
   "id": "5fcc1b36",
   "metadata": {},
   "source": [
    "By collecting the data using TMDb API one can recommend TV Shows, Movies and all sorts of entertainment on the basis of user’s affinity to specific genres, actors, likes and dislikes.\n",
    "\n",
    "We can find details about upcoming TV Shows and Movies.\n",
    "\n",
    "We can find what is the most popular and/ or exclusive/new content at a given time."
   ]
  },
  {
   "cell_type": "markdown",
   "id": "e087591c",
   "metadata": {},
   "source": [
    "## Project Tool"
   ]
  },
  {
   "cell_type": "markdown",
   "id": "f31fe635",
   "metadata": {},
   "source": [
    "For this project, we are using the TMDb (The Movie Database) API.\n",
    "\n",
    "TMDb API enables you to find out the latest information about TV Shows, Movies and the biggest names in entertainment sector for a marvelous and fun TV/Movie watching experience."
   ]
  },
  {
   "cell_type": "markdown",
   "id": "6e070dd1",
   "metadata": {},
   "source": [
    "### TMDb documentation link"
   ]
  },
  {
   "cell_type": "markdown",
   "id": "ec635c6b",
   "metadata": {},
   "source": [
    "https://developer.themoviedb.org/reference/intro/getting-started"
   ]
  },
  {
   "cell_type": "markdown",
   "id": "f2d8e873",
   "metadata": {},
   "source": [
    "### TMDB API Key Generation Link"
   ]
  },
  {
   "cell_type": "markdown",
   "id": "0614f68e",
   "metadata": {},
   "source": [
    "https://www.themoviedb.org/settings/api/request"
   ]
  },
  {
   "cell_type": "markdown",
   "id": "f9fe8112",
   "metadata": {},
   "source": [
    "### Importing Libraries"
   ]
  },
  {
   "cell_type": "code",
   "execution_count": 1,
   "id": "42d4afc9",
   "metadata": {},
   "outputs": [],
   "source": [
    "import requests\n",
    "import json\n",
    "from requests.auth import HTTPBasicAuth"
   ]
  },
  {
   "cell_type": "markdown",
   "id": "2bd28fb8",
   "metadata": {},
   "source": [
    "### Creating Header"
   ]
  },
  {
   "cell_type": "markdown",
   "id": "62d1f212",
   "metadata": {},
   "source": [
    "### Question 1"
   ]
  },
  {
   "cell_type": "markdown",
   "id": "cae08afe",
   "metadata": {},
   "source": [
    "Find the 'id' of the movie \"Andhadhun\" using TMDb API.\n",
    "\n",
    "**Print the id of the movie.**"
   ]
  },
  {
   "cell_type": "code",
   "execution_count": 2,
   "id": "7cdfa34c",
   "metadata": {},
   "outputs": [
    {
     "name": "stdout",
     "output_type": "stream",
     "text": [
      "{\"page\":1,\"results\":[{\"adult\":false,\"backdrop_path\":\"/wJLV2ygHhTHG0nRTXlvA6wS8ubL.jpg\",\"genre_ids\":[80,53,35],\"id\":534780,\"original_language\":\"hi\",\"original_title\":\"अंधाधुन\",\"overview\":\"A series of mysterious events changes the life of a blind pianist who now must report a crime that was actually never witnessed by him.\",\"popularity\":9.896,\"poster_path\":\"/dy3K6hNvwE05siGgiLJcEiwgpdO.jpg\",\"release_date\":\"2018-10-05\",\"title\":\"Andhadhun\",\"video\":false,\"vote_average\":7.644,\"vote_count\":412}],\"total_pages\":1,\"total_results\":1}\n"
     ]
    }
   ],
   "source": [
    "response = requests.get('https://api.themoviedb.org/3/search/movie?query=Andhadhun&api_key=2653811438c2ecad73d7be6f0263f7b9')\n",
    "print(response.text)"
   ]
  },
  {
   "cell_type": "code",
   "execution_count": 3,
   "id": "803bee05",
   "metadata": {},
   "outputs": [
    {
     "name": "stdout",
     "output_type": "stream",
     "text": [
      "https://api.themoviedb.org/3/search/movie?query=Andhadhun&api_key=2653811438c2ecad73d7be6f0263f7b9\n"
     ]
    }
   ],
   "source": [
    "print(response.url)"
   ]
  },
  {
   "cell_type": "code",
   "execution_count": 4,
   "id": "930816c2",
   "metadata": {},
   "outputs": [
    {
     "data": {
      "text/plain": [
       "200"
      ]
     },
     "execution_count": 4,
     "metadata": {},
     "output_type": "execute_result"
    }
   ],
   "source": [
    "response.status_code"
   ]
  },
  {
   "cell_type": "code",
   "execution_count": 5,
   "id": "c1e0da64",
   "metadata": {},
   "outputs": [
    {
     "name": "stdout",
     "output_type": "stream",
     "text": [
      "534780\n"
     ]
    }
   ],
   "source": [
    "data = response.json()\n",
    "print(data['results'][0]['id'])"
   ]
  },
  {
   "cell_type": "markdown",
   "id": "667b443d",
   "metadata": {},
   "source": [
    "### Question 2"
   ]
  },
  {
   "cell_type": "markdown",
   "id": "8811cb35",
   "metadata": {},
   "source": [
    "Fetch the company id company 'Marvel Studios' using TMDb. \n",
    "\n",
    "**Print the id.**"
   ]
  },
  {
   "cell_type": "code",
   "execution_count": 6,
   "id": "eb6ebd35",
   "metadata": {},
   "outputs": [
    {
     "name": "stdout",
     "output_type": "stream",
     "text": [
      "{\"page\":1,\"results\":[{\"id\":420,\"logo_path\":\"/hUzeosd33nzE5MCNsZxCGEKTXaQ.png\",\"name\":\"Marvel Studios\",\"origin_country\":\"US\"},{\"id\":13252,\"logo_path\":\"/1gKwYyTDNhumwBKUlKqoxXRUdpC.png\",\"name\":\"Marvel Animation\",\"origin_country\":\"US\"}],\"total_pages\":1,\"total_results\":2}\n"
     ]
    }
   ],
   "source": [
    "response = requests.get('https://api.themoviedb.org/3/search/company?query=Marvel+Studios&api_key=2653811438c2ecad73d7be6f0263f7b9')\n",
    "print(response.text)"
   ]
  },
  {
   "cell_type": "code",
   "execution_count": 7,
   "id": "00db6afe",
   "metadata": {},
   "outputs": [
    {
     "name": "stdout",
     "output_type": "stream",
     "text": [
      "https://api.themoviedb.org/3/search/company?query=Marvel+Studios&api_key=2653811438c2ecad73d7be6f0263f7b9\n"
     ]
    }
   ],
   "source": [
    "print(response.url)"
   ]
  },
  {
   "cell_type": "code",
   "execution_count": 8,
   "id": "726a610a",
   "metadata": {},
   "outputs": [
    {
     "name": "stdout",
     "output_type": "stream",
     "text": [
      "420\n"
     ]
    }
   ],
   "source": [
    "data = response.json()\n",
    "print(data['results'][0]['id'])"
   ]
  },
  {
   "cell_type": "markdown",
   "id": "59a446fe",
   "metadata": {},
   "source": [
    "### Question 3"
   ]
  },
  {
   "cell_type": "markdown",
   "id": "4b5096ca",
   "metadata": {},
   "source": [
    "Find the vote count and vote average of the movie \"3 Idiots\" using the TMDb API\n",
    "\n",
    "**Output format: Vote Count , Vote Average**"
   ]
  },
  {
   "cell_type": "code",
   "execution_count": 9,
   "id": "cc68e2ef",
   "metadata": {},
   "outputs": [
    {
     "name": "stdout",
     "output_type": "stream",
     "text": [
      "{\"page\":1,\"results\":[{\"adult\":false,\"backdrop_path\":\"/u7kuUaySqXBVAtqEl9vkTkAzHV9.jpg\",\"genre_ids\":[18,35],\"id\":20453,\"original_language\":\"hi\",\"original_title\":\"3 Idiots\",\"overview\":\"Rascal. Joker. Dreamer. Genius... You've never met a college student quite like \\\"Rancho.\\\" From the moment he arrives at India's most prestigious university, Rancho's outlandish schemes turn the campus upside down—along with the lives of his two newfound best friends. Together, they make life miserable for \\\"Virus,\\\" the school’s uptight and heartless dean. But when Rancho catches the eye of the dean's sexy daughter, Virus sets his sights on flunking out the \\\"3 idiots\\\" once and for all.\",\"popularity\":27.532,\"poster_path\":\"/66A9MqXOyVFCssoloscw79z8Tew.jpg\",\"release_date\":\"2009-12-23\",\"title\":\"3 Idiots\",\"video\":false,\"vote_average\":7.985,\"vote_count\":2094}],\"total_pages\":1,\"total_results\":1}\n"
     ]
    }
   ],
   "source": [
    "response = requests.get('https://api.themoviedb.org/3/search/movie?query=3+Idiots&api_key=2653811438c2ecad73d7be6f0263f7b9')\n",
    "print(response.text)"
   ]
  },
  {
   "cell_type": "code",
   "execution_count": 10,
   "id": "a0e1d466",
   "metadata": {},
   "outputs": [
    {
     "name": "stdout",
     "output_type": "stream",
     "text": [
      "https://api.themoviedb.org/3/search/movie?query=3+Idiots&api_key=2653811438c2ecad73d7be6f0263f7b9\n"
     ]
    }
   ],
   "source": [
    "print(response.url)"
   ]
  },
  {
   "cell_type": "code",
   "execution_count": 11,
   "id": "12bd727f",
   "metadata": {},
   "outputs": [
    {
     "name": "stdout",
     "output_type": "stream",
     "text": [
      "2094 7.985\n"
     ]
    }
   ],
   "source": [
    "data = response.json()\n",
    "print(data['results'][0][\"vote_count\"], end = ' ')\n",
    "print(data['results'][0][\"vote_average\"])"
   ]
  },
  {
   "cell_type": "markdown",
   "id": "d4631696",
   "metadata": {},
   "source": [
    "### Question 4 "
   ]
  },
  {
   "cell_type": "markdown",
   "id": "10a9eac1",
   "metadata": {},
   "source": [
    "Fetch the names of top 5 similar movies to 'Inception' from the TMDb API.\n",
    "\n",
    "**Note**\n",
    "\n",
    "While fetching the movie id, use the \"original_title\" field not the \"title\". Because the \"title\" field may contain duplicate values.\n",
    "\n",
    "**Output Format:**\n",
    "\n",
    "Print the name of the movies in a new line.\n",
    "\n",
    "movie_name_1\n",
    "\n",
    "movie_name_2\n",
    "\n",
    "and so on"
   ]
  },
  {
   "cell_type": "code",
   "execution_count": 12,
   "id": "c695dc00",
   "metadata": {},
   "outputs": [
    {
     "name": "stdout",
     "output_type": "stream",
     "text": [
      "Bride Kidnapping in Kyrgyzstan\n",
      "VooDoo\n",
      "Operation Poker\n",
      "Powerbomb\n",
      "Kitchen in Paris\n"
     ]
    }
   ],
   "source": [
    "api_key = \"2653811438c2ecad73d7be6f0263f7b9\"\n",
    "api_link = \"https://api.themoviedb.org/3\" \n",
    "\n",
    "param = {'query':\"Inception\", 'api_key':api_key} \n",
    "\n",
    "header = {'Accept': 'application/json'} \n",
    "response = requests.get(api_link + \"/search/movie\", headers = header, params=param)\n",
    "data = response.json() \n",
    "results = data.get('results') \n",
    "for result in results: \n",
    "    if result.get('original_title') == 'Inception':\n",
    "        id = result.get('id') \n",
    "        \n",
    "\n",
    "params2={'api_key':api_key}\n",
    "call=requests.get('https://api.themoviedb.org/3/movie/27205/similar',params=params2,headers=header)\n",
    "#call.status_code\n",
    "li = call.json()['results']\n",
    "for ele in li[0:5]:\n",
    "    print(ele['title'])"
   ]
  },
  {
   "cell_type": "markdown",
   "id": "bb9f9619",
   "metadata": {},
   "source": [
    "### Question 5 "
   ]
  },
  {
   "cell_type": "markdown",
   "id": "80f063cc",
   "metadata": {},
   "source": [
    "Fetch the top rated english movies in the US region using the TMDb API. From the result, print the first 10 movies which have original language as english. Also print their genres.\n",
    "\n",
    "**Note**: Do not use the search/movies API for finding genres.\n",
    "\n",
    "**Output Format:**\n",
    "\n",
    "movie_name_1 - genre_1, genre_2 ....\n",
    "\n",
    "and so on.."
   ]
  },
  {
   "cell_type": "code",
   "execution_count": 13,
   "id": "8921a161",
   "metadata": {},
   "outputs": [
    {
     "name": "stdout",
     "output_type": "stream",
     "text": [
      "The Godfather - Drama, Crime, \n",
      "The Shawshank Redemption - Drama, Crime, \n",
      "Spider-Man: Across the Spider-Verse - Action, Adventure, Animation, Science Fiction, \n",
      "The Godfather Part II - Drama, Crime, \n",
      "Schindler's List - Drama, History, War, \n",
      "12 Angry Men - Drama, \n",
      "The Green Mile - Fantasy, Drama, Crime, \n",
      "The Dark Knight - Drama, Action, Crime, Thriller, \n",
      "Pulp Fiction - Thriller, Crime, \n",
      "Forrest Gump - Comedy, Drama, Romance, \n"
     ]
    }
   ],
   "source": [
    "import requests\n",
    "api_key = \"2653811438c2ecad73d7be6f0263f7b9\"\n",
    "api_link = \"https://api.themoviedb.org/3\"\n",
    "header = {'Accept': 'application/json'}\n",
    "params = {'api_key':api_key, 'region':'US'}\n",
    "response = requests.get(api_link + \"/movie/top_rated\", headers = header, params = params)\n",
    "data = response.json()\n",
    "results = data.get('results')\n",
    "title_array = []\n",
    "genre_id_array = []\n",
    "for result in results:\n",
    "    if result.get('original_language') == 'en':\n",
    "        title_array.append(result.get('title'))\n",
    "        genre_id_array.append(result.get('genre_ids'))\n",
    "# To get the genre name corresponding to genre_id\n",
    "response2 = requests.get(api_link + \"/genre/movie/list\", headers = header, params = params)\n",
    "data2 = response2.json()\n",
    "genres = data2.get('genres')\n",
    "mapping = {}\n",
    "for genre in genres:\n",
    "    mapping[genre.get('id')] = genre.get('name')\n",
    "for i in range(10):\n",
    "    print(title_array[i], \"-\", end=\" \")\n",
    "    for id in genre_id_array[i]:\n",
    "        print(mapping.get(id), end = \", \")\n",
    "    print()"
   ]
  },
  {
   "cell_type": "code",
   "execution_count": 14,
   "id": "39adabab",
   "metadata": {},
   "outputs": [],
   "source": [
    "r = requests.get('https://api.themoviedb.org/3/genre/movie/list?api_key=2653811438c2ecad73d7be6f0263f7b9&language=en-US')"
   ]
  },
  {
   "cell_type": "code",
   "execution_count": 15,
   "id": "931cfcea",
   "metadata": {},
   "outputs": [
    {
     "name": "stdout",
     "output_type": "stream",
     "text": [
      "https://api.themoviedb.org/3/genre/movie/list?api_key=2653811438c2ecad73d7be6f0263f7b9&language=en-US\n"
     ]
    }
   ],
   "source": [
    "print(r.url)"
   ]
  },
  {
   "cell_type": "markdown",
   "id": "2dc61c72",
   "metadata": {},
   "source": [
    "### Question 6"
   ]
  },
  {
   "cell_type": "markdown",
   "id": "7f79ac3b",
   "metadata": {},
   "source": [
    "Find the name and birthplace of the present most popular person according to TMDb API.\n",
    "\n",
    "**Output Format:**\n",
    "\n",
    "id\n",
    "\n",
    "name - birthplace"
   ]
  },
  {
   "cell_type": "code",
   "execution_count": 16,
   "id": "10437c6b",
   "metadata": {},
   "outputs": [
    {
     "name": "stdout",
     "output_type": "stream",
     "text": [
      "64\n"
     ]
    }
   ],
   "source": [
    "response = requests.get('https://api.themoviedb.org/3/person/popular?api_key=2653811438c2ecad73d7be6f0263f7b9')\n",
    "data = response.json()\n",
    "personId = data['results'][0]['id']\n",
    "print(personId)"
   ]
  },
  {
   "cell_type": "code",
   "execution_count": 17,
   "id": "a49960d2",
   "metadata": {},
   "outputs": [
    {
     "name": "stdout",
     "output_type": "stream",
     "text": [
      "https://api.themoviedb.org/3/person/64?api_key=2653811438c2ecad73d7be6f0263f7b9\n"
     ]
    }
   ],
   "source": [
    "r = requests.get('https://api.themoviedb.org/3/person/64?api_key=2653811438c2ecad73d7be6f0263f7b9')\n",
    "d = r.json()\n",
    "print(r.url)"
   ]
  },
  {
   "cell_type": "code",
   "execution_count": 18,
   "id": "3f936937",
   "metadata": {},
   "outputs": [
    {
     "name": "stdout",
     "output_type": "stream",
     "text": [
      "64\n",
      "Gary Oldman - New Cross, London, England, UK\n"
     ]
    }
   ],
   "source": [
    "print(personId)\n",
    "print(d['name'], '-', d['place_of_birth'])"
   ]
  },
  {
   "cell_type": "markdown",
   "id": "725e5e4c",
   "metadata": {},
   "source": [
    "### Question 7"
   ]
  },
  {
   "cell_type": "markdown",
   "id": "14b607b3",
   "metadata": {},
   "source": [
    "Fetch the Instagram and Twitter handle of Indian Actress \"Alia Bhatt\" from the TMDb API.\n",
    "\n",
    "**Output Format**\n",
    "\n",
    "Print the Instagram and Twitter IDs space separated.\n",
    "\n",
    "instagram_id twitter_id"
   ]
  },
  {
   "cell_type": "code",
   "execution_count": 19,
   "id": "7d14d964",
   "metadata": {},
   "outputs": [
    {
     "data": {
      "text/plain": [
       "1108120"
      ]
     },
     "execution_count": 19,
     "metadata": {},
     "output_type": "execute_result"
    }
   ],
   "source": [
    "response = requests.get('http://api.tmdb.org/3/search/person?api_key=2653811438c2ecad73d7be6f0263f7b9&query=Alia+Bhatt')\n",
    "data = response.json()\n",
    "personId = data['results'][0]['id']\n",
    "personId"
   ]
  },
  {
   "cell_type": "code",
   "execution_count": 20,
   "id": "765c871c",
   "metadata": {},
   "outputs": [
    {
     "name": "stdout",
     "output_type": "stream",
     "text": [
      "https://api.themoviedb.org/3/person/1108120/external_ids?api_key=2653811438c2ecad73d7be6f0263f7b9\n"
     ]
    }
   ],
   "source": [
    "response = requests.get('https://api.themoviedb.org/3/person/1108120/external_ids?api_key=2653811438c2ecad73d7be6f0263f7b9')\n",
    "print(response.url)"
   ]
  },
  {
   "cell_type": "code",
   "execution_count": 21,
   "id": "823e95dc",
   "metadata": {},
   "outputs": [
    {
     "name": "stdout",
     "output_type": "stream",
     "text": [
      "aliaabhatt Aliaa08\n"
     ]
    }
   ],
   "source": [
    "data = response.json()\n",
    "print(data['instagram_id'], data['twitter_id'])"
   ]
  },
  {
   "cell_type": "markdown",
   "id": "7acc22c4",
   "metadata": {},
   "source": [
    "### Question 8"
   ]
  },
  {
   "cell_type": "markdown",
   "id": "21e722b0",
   "metadata": {},
   "source": [
    "Fetch the names of the character played by Tom Cruise in the movies:\n",
    "\n",
    "1. Top Gun\n",
    "2. Mission: Impossible - Fallout\n",
    "3. Minority Report\n",
    "4. Edge of Tomorrow\n",
    "\n",
    "Output Format:\n",
    "\n",
    "Print the names of the characters played by Tom Cruise line separated, in the respective order given in question."
   ]
  },
  {
   "cell_type": "code",
   "execution_count": 22,
   "id": "f62d296d",
   "metadata": {},
   "outputs": [],
   "source": [
    "myList = ['Top Gun', 'Mission: Impossible - Fallout', 'Minority Report', 'Edge of Tomorrow']\n",
    "myDict = dict()"
   ]
  },
  {
   "cell_type": "code",
   "execution_count": 23,
   "id": "5ae33e46",
   "metadata": {},
   "outputs": [
    {
     "data": {
      "text/plain": [
       "{'Top Gun': 744,\n",
       " 'Mission: Impossible - Fallout': 353081,\n",
       " 'Minority Report': 180,\n",
       " 'Edge of Tomorrow': 137113}"
      ]
     },
     "execution_count": 23,
     "metadata": {},
     "output_type": "execute_result"
    }
   ],
   "source": [
    "for i in myList :\n",
    "    url = 'https://api.themoviedb.org/3/search/movie?query='+ i +'&api_key=2653811438c2ecad73d7be6f0263f7b9'\n",
    "    response = requests.get(url)\n",
    "    data = response.json()\n",
    "    movie_id = (data['results'][0]['id'])\n",
    "    val = myDict.get(i)\n",
    "    if not val :\n",
    "        myDict[i] = movie_id\n",
    "myDict"
   ]
  },
  {
   "cell_type": "code",
   "execution_count": 24,
   "id": "fc060562",
   "metadata": {},
   "outputs": [
    {
     "name": "stdout",
     "output_type": "stream",
     "text": [
      "Lt. Pete 'Maverick' Mitchell\n",
      "Ethan Hunt\n",
      "Chief John Anderton\n",
      "Maj. William 'Bill' Cage\n"
     ]
    }
   ],
   "source": [
    "for key in myDict :\n",
    "    url = 'https://api.themoviedb.org/3/movie/'+ str(myDict[key]) +'/credits?api_key=2653811438c2ecad73d7be6f0263f7b9'\n",
    "    castResponse = requests.get(url)\n",
    "    data = castResponse.json()\n",
    "    castList = data['cast']\n",
    "    for cast in castList :\n",
    "        if cast['original_name'] == 'Tom Cruise' :\n",
    "            print(cast['character'])\n",
    "            break"
   ]
  },
  {
   "cell_type": "markdown",
   "id": "5eb00452",
   "metadata": {},
   "source": [
    "### Question 9"
   ]
  },
  {
   "cell_type": "markdown",
   "id": "036ec8d3",
   "metadata": {},
   "source": [
    "Did **James McAvoy** play a role in the movie **Deadpool 2**?\n",
    "\n",
    "Print Yes or No."
   ]
  },
  {
   "cell_type": "code",
   "execution_count": 25,
   "id": "10a9502d",
   "metadata": {},
   "outputs": [
    {
     "data": {
      "text/plain": [
       "383498"
      ]
     },
     "execution_count": 25,
     "metadata": {},
     "output_type": "execute_result"
    }
   ],
   "source": [
    "url = 'https://api.themoviedb.org/3/search/movie?query=Deadpool+2&api_key=2653811438c2ecad73d7be6f0263f7b9'\n",
    "response = requests.get(url)\n",
    "data = response.json()\n",
    "movie_id = data['results'][0]['id']\n",
    "movie_id"
   ]
  },
  {
   "cell_type": "code",
   "execution_count": 26,
   "id": "4211b53a",
   "metadata": {},
   "outputs": [
    {
     "name": "stdout",
     "output_type": "stream",
     "text": [
      "Yes\n"
     ]
    }
   ],
   "source": [
    "url = 'https://api.themoviedb.org/3/movie/383498/credits?api_key=2653811438c2ecad73d7be6f0263f7b9'\n",
    "response = requests.get(url)\n",
    "data = response.json()\n",
    "castList = data['cast']\n",
    "found = False\n",
    "for cast in castList :\n",
    "    if cast['original_name'] == 'James McAvoy' :\n",
    "        found = True\n",
    "        print('Yes')\n",
    "        break\n",
    "if not found :\n",
    "    print('No')"
   ]
  },
  {
   "cell_type": "markdown",
   "id": "eeab1764",
   "metadata": {},
   "source": [
    "### Question 10"
   ]
  },
  {
   "cell_type": "markdown",
   "id": "addb84d1",
   "metadata": {},
   "source": [
    "Using the result obtained in previous question, \n",
    "\n",
    "Find out if James McAvoy was credited for **his role** in movie Deadpool 2\n",
    "\n",
    "Print Yes or No."
   ]
  },
  {
   "cell_type": "code",
   "execution_count": 27,
   "id": "d4ada45f",
   "metadata": {},
   "outputs": [
    {
     "name": "stdout",
     "output_type": "stream",
     "text": [
      "Charles Xavier (uncredited)\n"
     ]
    }
   ],
   "source": [
    "url = 'https://api.themoviedb.org/3/movie/383498/credits?api_key=2653811438c2ecad73d7be6f0263f7b9'\n",
    "response = requests.get(url)\n",
    "data = response.json()\n",
    "castList = data['cast']\n",
    "personCharacter = None\n",
    "for cast in castList :\n",
    "    if cast['original_name'] == 'James McAvoy' :\n",
    "        personCharacter = cast['character']\n",
    "print(personCharacter)"
   ]
  },
  {
   "cell_type": "code",
   "execution_count": 28,
   "id": "35bd8a8f",
   "metadata": {},
   "outputs": [
    {
     "name": "stdout",
     "output_type": "stream",
     "text": [
      "No\n"
     ]
    }
   ],
   "source": [
    "if 'uncredited' in personCharacter :\n",
    "    print('No')\n",
    "else :\n",
    "    print('Yes')"
   ]
  },
  {
   "cell_type": "markdown",
   "id": "4ca71b54",
   "metadata": {},
   "source": [
    "### Question 11 "
   ]
  },
  {
   "cell_type": "markdown",
   "id": "3f5dd5bb",
   "metadata": {},
   "source": [
    "Fetch the overview of the TV Show \"FRIENDS\" using TMDb API.\n",
    "\n",
    "Output Format:\n",
    "\n",
    "Print the Overview."
   ]
  },
  {
   "cell_type": "code",
   "execution_count": 29,
   "id": "cd04666a",
   "metadata": {},
   "outputs": [
    {
     "name": "stdout",
     "output_type": "stream",
     "text": [
      "Six young people from New York City, on their own and struggling to survive in the real world, find the companionship, comfort and support they get from each other to be the perfect antidote to the pressures of life.\n",
      "Friends is a short-lived kids-oriented drama that aired in the spring of 1979. The series, which was produced by Aaron Spelling and aired on ABC, starred Charlie Aiken, Jill Whelan, and Jarrod Johnson as three Southern Californian 11-year-olds. Karen Morrow also appeared. Only five one-hour episodes were produced before the series was cancelled.\n",
      "\n"
     ]
    }
   ],
   "source": [
    "url = 'https://api.themoviedb.org/3/search/tv?api_key=2653811438c2ecad73d7be6f0263f7b9&query=FRIENDS'\n",
    "response = requests.get(url)\n",
    "data = response.json()\n",
    "showList = data['results']\n",
    "for show in showList :\n",
    "    if show['name'] == 'Friends' :\n",
    "        print(show['overview'])"
   ]
  },
  {
   "cell_type": "markdown",
   "id": "2f522b85",
   "metadata": {},
   "source": [
    "### Question 12"
   ]
  },
  {
   "cell_type": "markdown",
   "id": "d54b01d0",
   "metadata": {},
   "source": [
    "Fetch the name and air date of **S06E05** of the TV Show 'The Big Bang Theory' from TMDb API.\n",
    "\n",
    "Output Format:\n",
    "\n",
    "episode_name - air_date"
   ]
  },
  {
   "cell_type": "code",
   "execution_count": 30,
   "id": "5fff1cb7",
   "metadata": {},
   "outputs": [
    {
     "name": "stdout",
     "output_type": "stream",
     "text": [
      "1418\n"
     ]
    }
   ],
   "source": [
    "url = 'https://api.themoviedb.org/3/search/tv?api_key=2653811438c2ecad73d7be6f0263f7b9&query=The+Big+Bang+Theory'\n",
    "response = requests.get(url)\n",
    "data = response.json()\n",
    "showId = data['results'][0]['id']\n",
    "print(showId)"
   ]
  },
  {
   "cell_type": "code",
   "execution_count": 31,
   "id": "0d2fe0fd",
   "metadata": {},
   "outputs": [
    {
     "name": "stdout",
     "output_type": "stream",
     "text": [
      "The Holographic Excitation - 2012-10-25\n"
     ]
    }
   ],
   "source": [
    "url = 'https://api.themoviedb.org/3/tv/1418/season/6/episode/5?api_key=2653811438c2ecad73d7be6f0263f7b9'\n",
    "response = requests.get(url)\n",
    "data = response.json()\n",
    "air_data = data['air_date']\n",
    "episode_name = data['name']\n",
    "\n",
    "print(episode_name, '-', air_data)"
   ]
  },
  {
   "cell_type": "markdown",
   "id": "961903c8",
   "metadata": {},
   "source": [
    "### Question 13"
   ]
  },
  {
   "cell_type": "markdown",
   "id": "49018d1a",
   "metadata": {},
   "source": [
    "Fetch the trending TV Shows for the week from the TMDb API and print the taglines of the top 5 shows. If there is no tagline, print 'Empty' instead\n",
    "\n",
    "Output Format:\n",
    "\n",
    "Print the taglines in new line."
   ]
  },
  {
   "cell_type": "code",
   "execution_count": 32,
   "id": "20b59f41",
   "metadata": {},
   "outputs": [
    {
     "name": "stdout",
     "output_type": "stream",
     "text": [
      "The future is bright\n",
      "Who do you trust?\n",
      "Empty\n",
      "The truth will surface.\n",
      "Keep your enemies close.\n"
     ]
    }
   ],
   "source": [
    "url = 'https://api.themoviedb.org/3/trending/tv/week?api_key=2653811438c2ecad73d7be6f0263f7b9'\n",
    "showInfoUrl = 'https://api.themoviedb.org/3/tv/70523?api_key=2653811438c2ecad73d7be6f0263f7b9'\n",
    "response = requests.get(url)\n",
    "data = response.json()\n",
    "showList = data['results'][0 : 5]\n",
    "showIdList = []\n",
    "for show in showList :\n",
    "    showIdList.append(show['id'])\n",
    "for ide in showIdList :\n",
    "    showInfoUrl = 'https://api.themoviedb.org/3/tv/'+str(ide)+'?api_key=2653811438c2ecad73d7be6f0263f7b9'\n",
    "    response = requests.get(showInfoUrl)\n",
    "    data = response.json()\n",
    "    tagline = data['tagline']\n",
    "    if tagline == '' :\n",
    "        print('Empty')\n",
    "    else :\n",
    "        print(tagline)"
   ]
  },
  {
   "cell_type": "markdown",
   "id": "c3bc8d4f",
   "metadata": {},
   "source": [
    "### Question 14 "
   ]
  },
  {
   "cell_type": "markdown",
   "id": "8ca37e83",
   "metadata": {},
   "source": [
    "Print the names of all the TV shows to be aired today whose original language is english.\n",
    "\n",
    "Output Format:\n",
    "\n",
    "Print the name of each TV show in a new line."
   ]
  },
  {
   "cell_type": "code",
   "execution_count": 33,
   "id": "3fd3750c",
   "metadata": {},
   "outputs": [
    {
     "name": "stdout",
     "output_type": "stream",
     "text": [
      "MasterChef Australia\n",
      "La Casa de los Famosos Mexico\n",
      "The View\n",
      "Emmerdale\n",
      "PBS NewsHour\n",
      "Love Island\n",
      "Mayans M.C.\n",
      "Riverdale\n",
      "General Hospital\n",
      "Days of Our Lives\n",
      "EastEnders\n",
      "It's Always Sunny in Philadelphia\n",
      "Class of '09\n",
      "Ridiculousness\n",
      "Naked News\n",
      "Home and Away\n",
      "Doctors\n",
      "Secret Invasion\n",
      "The Clearing\n",
      "Coronation Street\n",
      "House Hunters\n",
      "Hollyoaks\n",
      "Pawn Stars\n",
      "LIVE with Kelly and Mark\n",
      "Ghost Adventures\n",
      "Watch What Happens: Live\n",
      "Nancy Drew\n",
      "The Family Stallone\n",
      "MasterChef\n",
      "Shortland Street\n",
      "Hey Yahoo!\n",
      "The Project\n",
      "All Elite Wrestling: Dynamite\n",
      "The PM's Daughter\n",
      "Alex Wagner Tonight\n",
      "WWE's The Bump\n",
      "On the Case with Paula Zahn\n",
      "Guy's Grocery Games\n",
      "Tyler Perry's Sistas\n",
      "Married at First Sight\n",
      "SpongeBob SquarePants\n",
      "Let's Make a Deal\n",
      "The Real Housewives of Orange County\n",
      "Dateline: Secrets Uncovered\n",
      "Split Second\n",
      "Tribunal Justice\n",
      "The Wonder Years\n",
      "Temptation Island\n",
      "The Repair Shop\n",
      "Claimed and Shamed\n",
      "Utopia\n",
      "Silverpoint\n",
      "Court Cam\n",
      "The Great British Sewing Bee\n",
      "To Catch a Smuggler\n",
      "The Change\n",
      "Break Point\n",
      "Judge Me Not\n",
      "Drug Lords: The Takedown\n",
      "In Limbo\n",
      "The Big D\n",
      "LA Fire & Rescue\n",
      "I Survived a Crime\n",
      "Extraordinary Escapes with Sandi Toksvig\n",
      "Magical Japanese\n",
      "The Killer Bee Catcher\n",
      "Big Freedia Means Business\n",
      "Bush Wreck Rescue\n",
      "Holden Bros Restos\n",
      "Camp Minnie\n",
      "Fun'Q with Spencer Watts\n",
      "Midst\n",
      "Mala Supruga\n",
      "Minnie's Bow-Toons\n",
      "Judge Steve Harvey\n",
      "Great British Railway Journeys\n",
      "The Young and the Restless\n",
      "Jet Lag: The Game\n",
      "Garden Rescue\n",
      "The Bold and the Beautiful\n",
      "There She Goes\n",
      "Gordon Ramsay's Food Stars\n",
      "The Overlap On Tour\n",
      "Jersey and Guernsey\n",
      "Faraway Fields\n",
      "Paddy Gower Has Issues\n",
      "Faraway Fields\n",
      "Paddy Gower Has Issues\n",
      "M!LK「Jewel」SPECIAL\n",
      "Glastonbury Anthems\n"
     ]
    }
   ],
   "source": [
    "for i in range(1, 14) :\n",
    "    url = 'https://api.themoviedb.org/3/tv/airing_today?language=en-US&page='+str(i)+'&api_key=2653811438c2ecad73d7be6f0263f7b9'\n",
    "    response = requests.get(url)\n",
    "    data = response.json()\n",
    "    showList = data['results']\n",
    "    for show in showList :\n",
    "        if show['original_language'] == 'en' :\n",
    "            print(show['original_name'])"
   ]
  },
  {
   "cell_type": "markdown",
   "id": "586ccdff",
   "metadata": {},
   "source": [
    "### Question 15"
   ]
  },
  {
   "cell_type": "markdown",
   "id": "f97113f6",
   "metadata": {},
   "source": [
    "Count the number of males and females in the cast of \"Money Heist\" using the TMDb API.\n",
    "\n",
    "Output Format:\n",
    "\n",
    "Print the count of male and female space separated.\n",
    "\n",
    "male_count female_count"
   ]
  },
  {
   "cell_type": "code",
   "execution_count": 34,
   "id": "0d81d044",
   "metadata": {},
   "outputs": [
    {
     "name": "stdout",
     "output_type": "stream",
     "text": [
      "10 5\n"
     ]
    }
   ],
   "source": [
    "url = 'https://api.themoviedb.org/3/search/tv?api_key=2653811438c2ecad73d7be6f0263f7b9&query=Money+Heist'\n",
    "response = requests.get(url)\n",
    "data = response.json()\n",
    "show_id = data['results'][0]['id']\n",
    "url = 'https://api.themoviedb.org/3/tv/'+str(show_id)+'/credits?api_key=2653811438c2ecad73d7be6f0263f7b9&language=en-US'\n",
    "response = requests.get(url)\n",
    "data = response.json()\n",
    "castList = data['cast']\n",
    "male = 0\n",
    "female = 0\n",
    "for cast in castList :\n",
    "    if cast['gender'] == 1 :\n",
    "        female += 1\n",
    "    elif cast['gender'] == 2:\n",
    "        male += 1\n",
    "print(male, female)"
   ]
  }
 ],
 "metadata": {
  "kernelspec": {
   "display_name": "Python 3 (ipykernel)",
   "language": "python",
   "name": "python3"
  },
  "language_info": {
   "codemirror_mode": {
    "name": "ipython",
    "version": 3
   },
   "file_extension": ".py",
   "mimetype": "text/x-python",
   "name": "python",
   "nbconvert_exporter": "python",
   "pygments_lexer": "ipython3",
   "version": "3.9.13"
  }
 },
 "nbformat": 4,
 "nbformat_minor": 5
}
